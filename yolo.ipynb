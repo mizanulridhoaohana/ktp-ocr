{
 "cells": [
  {
   "cell_type": "code",
   "execution_count": 5,
   "metadata": {},
   "outputs": [
    {
     "name": "stdout",
     "output_type": "stream",
     "text": [
      "OCR rt_rw: 007/008\n",
      "OCR tempat_diterbitkan: JAKARTA BARAT\n",
      "OCR agama: ISLAM\n",
      "OCR perkawinan: KAWIN\n",
      "OCR alamat: JL. PASTI CEPAT A7/66\n",
      "OCR kecamatan: KALIDERES\n",
      "OCR jk: PEREMPUAN\n",
      "OCR kwg: WNI\n",
      "OCR kel_desa: PEGADUNGAN\n",
      "OCR pekerjaan: PEGAWAI SWASTA\n",
      "OCR nama: MIRA SETIAWAN\n",
      "OCR tgl_diterbitkan: 02-12-2012\n",
      "OCR nik: 3171234567890123\n",
      "OCR berlaku_hingga: 22-02- 2017\n",
      "OCR ttl: JAKARTA, 18-02-1986\n",
      "Annotated image saved as ktp_annotated.png\n"
     ]
    }
   ],
   "source": [
    "def process_ktp_image(image_path, model_id):\n",
    "    # Initialize the inference client\n",
    "    CLIENT = InferenceHTTPClient(\n",
    "        api_url=\"https://detect.roboflow.com\",\n",
    "        api_key=\"KsbTGBigSIYOwk4226BL\"\n",
    "    )\n",
    "\n",
    "    # Perform inference\n",
    "    result = CLIENT.infer(image_path, model_id=model_id)\n",
    "\n",
    "    # Load the original image\n",
    "    original_image = Image.open(image_path)\n",
    "    annotated_image = original_image.copy()\n",
    "    draw = ImageDraw.Draw(annotated_image)\n",
    "\n",
    "    # Initialize EasyOCR\n",
    "    reader = easyocr.Reader(['id'])\n",
    "\n",
    "    # Process each prediction\n",
    "    for prediction in result['predictions']:\n",
    "        x1 = int(prediction['x'] - prediction['width'] / 2)\n",
    "        y1 = int(prediction['y'] - prediction['height'] / 2)\n",
    "        x2 = int(prediction['x'] + prediction['width'] / 2)\n",
    "        y2 = int(prediction['y'] + prediction['height'] / 2)\n",
    "\n",
    "        # Draw bounding box\n",
    "        draw.rectangle([x1, y1, x2, y2], outline=\"red\")\n",
    "\n",
    "        # Crop the region around the bounding box\n",
    "        cropped_image = original_image.crop((x1, y1, x2, y2))\n",
    "\n",
    "        # Perform OCR using EasyOCR\n",
    "        ocr_results = reader.readtext(np.array(cropped_image))\n",
    "\n",
    "        # Print or use OCR result as needed\n",
    "        for result in ocr_results:\n",
    "            print(f\"OCR {prediction.get('class', 'Unknown')}: {result[1]}\")\n",
    "\n",
    "    # Save the annotated image\n",
    "    annotated_image_path = \"ktp_annotated.png\"\n",
    "    annotated_image.save(annotated_image_path)\n",
    "    print(f\"Annotated image saved as {annotated_image_path}\")\n",
    "\n",
    "# Example usage\n",
    "image_path = \"ktp.png\"\n",
    "model_id = \"ktp-object-detection/1\"\n",
    "process_ktp_image(image_path, model_id)"
   ]
  },
  {
   "cell_type": "code",
   "execution_count": null,
   "metadata": {},
   "outputs": [],
   "source": []
  }
 ],
 "metadata": {
  "kernelspec": {
   "display_name": ".venv",
   "language": "python",
   "name": "python3"
  },
  "language_info": {
   "codemirror_mode": {
    "name": "ipython",
    "version": 3
   },
   "file_extension": ".py",
   "mimetype": "text/x-python",
   "name": "python",
   "nbconvert_exporter": "python",
   "pygments_lexer": "ipython3",
   "version": "3.10.12"
  }
 },
 "nbformat": 4,
 "nbformat_minor": 2
}
